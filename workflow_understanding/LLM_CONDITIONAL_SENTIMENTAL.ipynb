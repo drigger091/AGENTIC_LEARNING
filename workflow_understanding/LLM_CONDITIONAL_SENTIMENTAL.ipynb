{
 "cells": [
  {
   "cell_type": "code",
   "execution_count": 93,
   "id": "4c548c2c",
   "metadata": {},
   "outputs": [],
   "source": [
    "from langgraph.graph import StateGraph , START , END\n",
    "from typing import TypedDict ,Literal\n",
    "import warnings\n",
    "import os\n",
    "warnings.filterwarnings(\"ignore\")\n",
    "from dotenv import load_dotenv\n",
    "from pydantic import BaseModel , Field\n",
    "from langchain.output_parsers import PydanticOutputParser\n"
   ]
  },
  {
   "cell_type": "code",
   "execution_count": 94,
   "id": "5e89bb28",
   "metadata": {},
   "outputs": [],
   "source": [
    "from langchain_google_genai import GoogleGenerativeAI\n",
    "load_dotenv()\n",
    "llm = GoogleGenerativeAI(\n",
    "    model=\"gemini-2.5-pro\",  # Use correct model name\n",
    "    google_api_key=os.getenv('GOOGLE_API_KEY')  # Explicit API key\n",
    ")"
   ]
  },
  {
   "cell_type": "code",
   "execution_count": 95,
   "id": "603296ad",
   "metadata": {},
   "outputs": [],
   "source": [
    "class Sentimentschema(BaseModel):\n",
    "    \n",
    "    sentiment :Literal[\"positive\",'negative'] = Field(description=\"Sentiment of the review\")"
   ]
  },
  {
   "cell_type": "code",
   "execution_count": 96,
   "id": "72bd44ca",
   "metadata": {},
   "outputs": [],
   "source": [
    "class DiagnosisSchema(BaseModel):\n",
    "    issue_type: Literal[\"UX\", \"Performance\", \"Bug\", \"Support\", \"Other\"] = Field(description='The category of issue mentioned in the review')\n",
    "    tone: Literal[\"angry\", \"frustrated\", \"disappointed\", \"calm\"] = Field(description='The emotional tone expressed by the user')\n",
    "    urgency: Literal[\"low\", \"medium\", \"high\"] = Field(description='How urgent or critical the issue appears to be')"
   ]
  },
  {
   "cell_type": "code",
   "execution_count": 97,
   "id": "2d3bc369",
   "metadata": {},
   "outputs": [],
   "source": [
    "# Parser\n",
    "parser_sentiment  = PydanticOutputParser(pydantic_object=Sentimentschema)"
   ]
  },
  {
   "cell_type": "code",
   "execution_count": 98,
   "id": "b90124a7",
   "metadata": {},
   "outputs": [],
   "source": [
    "parser_diagnostic = PydanticOutputParser(pydantic_object=DiagnosisSchema)"
   ]
  },
  {
   "cell_type": "code",
   "execution_count": 99,
   "id": "2f802c4d",
   "metadata": {},
   "outputs": [],
   "source": [
    "def structured_review_invoke(review: str) -> Sentimentschema:\n",
    "    prompt = (\n",
    "        f\"Review: {review}\\n\"\n",
    "        \"Reply strictly in JSON format like {\\\"sentiment\\\": \\\"positive\\\"} \"\n",
    "        \"with sentiment being either 'positive' or 'negative'. Do not add any extra text.\"\n",
    "    )\n",
    "    raw_response = llm.predict(prompt)\n",
    "    parsed =parser_sentiment.parse(raw_response)\n",
    "    return parsed.sentiment\n"
   ]
  },
  {
   "cell_type": "code",
   "execution_count": 100,
   "id": "a4db4832",
   "metadata": {},
   "outputs": [],
   "source": [
    "def structured_diagnosis_invoke(review: str) -> DiagnosisSchema:\n",
    "    prompt = (\n",
    "        f\"Review: {review}\\n\"\n",
    "        \"Analyze the review and reply strictly in JSON format with the following keys:\\n\"\n",
    "        \"{\\\"issue_type\\\": <one of UX, Performance, Bug, Support, Other>, \"\n",
    "        \"\\\"tone\\\": <one of angry, frustrated, disappointed, calm>, \"\n",
    "        \"\\\"urgency\\\": <one of low, medium, high>}\\n\"\n",
    "        \"Do not add any extra text or explanation. Only valid JSON with the specified values.\"\n",
    "    )\n",
    "    raw_response = llm.predict(prompt)\n",
    "    parsed = parser_diagnostic.parse(raw_response)\n",
    "    return parsed\n",
    "\n",
    "    "
   ]
  },
  {
   "cell_type": "code",
   "execution_count": 101,
   "id": "ad37500a",
   "metadata": {},
   "outputs": [],
   "source": [
    "class Reviewstate(TypedDict):\n",
    "    review :str\n",
    "    sentiment :Literal['positive','negative']\n",
    "    diagnosis :dict\n",
    "    response :str"
   ]
  },
  {
   "cell_type": "code",
   "execution_count": 102,
   "id": "87703651",
   "metadata": {},
   "outputs": [
    {
     "name": "stdout",
     "output_type": "stream",
     "text": [
      "{'review': 'The product has snide effects', 'sentiment': 'negative'}\n"
     ]
    }
   ],
   "source": [
    "# testing  the review state\n",
    "\n",
    "review_text = \"The product has snide effects\"\n",
    "sentiment_result = structured_review_invoke(review_text)\n",
    "\n",
    "state:Reviewstate ={\"review\":review_text,\n",
    "                    \"sentiment\":sentiment_result}\n",
    "\n",
    "\n",
    "print(state)"
   ]
  },
  {
   "cell_type": "code",
   "execution_count": 112,
   "id": "12a2fe6d",
   "metadata": {},
   "outputs": [],
   "source": [
    "def find_sentiment(state:Reviewstate)->Reviewstate:\n",
    "    prompt = f'For the following review find out the sentiment \\n {state[\"review\"]}'\n",
    "    sentiment = structured_review_invoke(prompt)\n",
    "    return {\"sentiment\":sentiment}\n",
    "\n",
    "def check_sentiment(state:Reviewstate)->Reviewstate:\n",
    "    if state[\"sentiment\"] == \"positive\":\n",
    "        return \"positive\"\n",
    "    else:\n",
    "        return \"negative\"\n",
    "\n",
    "def positive_response(state:Reviewstate)->Reviewstate:\n",
    "\n",
    "    prompt = f\"\"\"\n",
    "    write a short thank you note appreciating it,keept it short\n",
    "    \\n\\n\\\"{state['review']}\\\"\\n\n",
    "Also, kindly ask the user to leave feedback on our website.\n",
    "\"\"\"\n",
    "    response = llm.invoke(prompt)\n",
    "    return {\"response\":response}\n",
    "\n",
    "def run_diagnosis( state:Reviewstate)->Reviewstate:\n",
    "\n",
    "     prompt = f\"\"\"Diagnose this negative review:\\n\\n{state['review']}\\n\"\n",
    "    \"Return issue_type, tone, and urgency.\n",
    "\"\"\"\n",
    "     response = structured_diagnosis_invoke(prompt)\n",
    "     return {\"diagnosis\":response.model_dump()}\n",
    "\n",
    "def negative_response(state:Reviewstate)->Reviewstate:\n",
    "\n",
    "    diagnosis = state['diagnosis']\n",
    "    prompt =    prompt = f\"\"\"You are a support assistant.\n",
    "The user had a '{diagnosis['issue_type']}' issue, sounded '{diagnosis['tone']}', and marked urgency as '{diagnosis['urgency']}'.\n",
    "Write an empathetic, helpful resolution message.\n",
    "\"\"\"\n",
    "    response = llm.invoke(prompt)\n",
    "\n",
    "    return{\"response\":response}\n"
   ]
  },
  {
   "cell_type": "code",
   "execution_count": null,
   "id": "933a1ef5",
   "metadata": {},
   "outputs": [],
   "source": [
    "\n",
    "\"\"\"\n",
    "graph = StateGraph(Reviewstate)\n",
    "\n",
    "graph.add_node('find_sentiment', find_sentiment)\n",
    "graph.add_node('positive_response', positive_response)\n",
    "graph.add_node('run_diagnosis', run_diagnosis)\n",
    "graph.add_node('negative_response', negative_response)\n",
    "\n",
    "graph.add_edge(START, 'find_sentiment')\n",
    "\n",
    "graph.add_conditional_edges('find_sentiment', check_sentiment)\n",
    "\n",
    "graph.add_edge('positive_response', END)\n",
    "\n",
    "graph.add_edge('run_diagnosis', 'negative_response')\n",
    "graph.add_edge('negative_response', END)\n",
    "\n",
    "workflow = graph.compile()\n",
    "\"\"\""
   ]
  },
  {
   "cell_type": "code",
   "execution_count": 113,
   "id": "f14758b5",
   "metadata": {},
   "outputs": [],
   "source": [
    "\n",
    "\n",
    "graph = StateGraph(Reviewstate)\n",
    "\n",
    "graph.add_node('find_sentiment', find_sentiment)\n",
    "graph.add_node('positive_response', positive_response)\n",
    "graph.add_node('run_diagnosis', run_diagnosis)\n",
    "graph.add_node('negative_response', negative_response)\n",
    "\n",
    "graph.add_edge(START, 'find_sentiment')\n",
    "\n",
    "# **THE FIX IS HERE:** You need to map the output of check_sentiment\n",
    "# to the nodes you want to route to.\n",
    "graph.add_conditional_edges(\n",
    "    'find_sentiment',\n",
    "    check_sentiment,\n",
    "    {\n",
    "        \"positive\": \"positive_response\",  # If check_sentiment returns \"positive\", go to 'positive_response'\n",
    "        \"negative\": \"run_diagnosis\"       # If check_sentiment returns \"negative\", go to 'run_diagnosis'\n",
    "    }\n",
    ")\n",
    "\n",
    "graph.add_edge('positive_response', END)\n",
    "\n",
    "graph.add_edge('run_diagnosis', 'negative_response')\n",
    "graph.add_edge('negative_response', END)\n",
    "\n",
    "workflow = graph.compile()"
   ]
  },
  {
   "cell_type": "code",
   "execution_count": 114,
   "id": "fa76d4b0",
   "metadata": {},
   "outputs": [
    {
     "data": {
      "image/png": "[encoded data removed]",
      "text/plain": [
       "<langgraph.graph.state.CompiledStateGraph object at 0x0000024A2A6774C0>"
      ]
     },
     "execution_count": 114,
     "metadata": {},
     "output_type": "execute_result"
    }
   ],
   "source": [
    "workflow"
   ]
  },
  {
   "cell_type": "code",
   "execution_count": 115,
   "id": "19e8ce52",
   "metadata": {},
   "outputs": [
    {
     "name": "stdout",
     "output_type": "stream",
     "text": [
      "Of course. Here are a few options, ranging from a standard template to a more personalized one.\n",
      "\n",
      "### Option 1: The Go-To Template (Clear, Empathetic, Action-Oriented)\n",
      "\n",
      "**Subject: Re: High Urgency Bug Report**\n",
      "\n",
      "Hi [User Name],\n",
      "\n",
      "Thank you for reaching out and reporting this. I'm so sorry to hear about the trouble this bug is causing you. I can absolutely understand your frustration when something isn't working as expected, and I want to assure you that we're taking this with the high urgency it deserves.\n",
      "\n",
      "To help our engineering team investigate and resolve this for you as quickly as possible, could you please provide a few more details?\n",
      "\n",
      "*   Could you describe the steps you were taking right before the bug occurred?\n",
      "*   What was the unexpected outcome?\n",
      "*   If you have any screenshots, error messages, or a short screen recording of the issue, that would be incredibly helpful.\n",
      "\n",
      "Once I have this information, I will personally escalate it to the right team and keep you updated on our progress.\n",
      "\n",
      "Thank you for your patience. We'll work to get this sorted out for you.\n",
      "\n",
      "Best regards,\n",
      "\n",
      "[Your Name]\n",
      "Support Specialist\n",
      "\n",
      "---\n",
      "\n",
      "### Option 2: More Directly Empathetic (Focuses on acknowledging the frustration first)\n",
      "\n",
      "**Subject: Re: Your recent bug report - we're on it**\n",
      "\n",
      "Hi [User Name],\n",
      "\n",
      "I'm really sorry for the frustration this bug is causing. Reading your message, I can tell this is a major roadblock for you, and I want to thank you for flagging it with high urgency. Please know that I've already marked this as a top priority on our end.\n",
      "\n",
      "Let's work together to get this fixed. To give our developers the best possible starting point, could you share a bit more about what's happening? A screen recording of the issue or a few screenshots are often the fastest way for us to see what you're seeing. Any specific error messages are also a huge help.\n",
      "\n",
      "I'll be standing by for your reply so I can immediately pass this along to our engineering team for investigation.\n",
      "\n",
      "We appreciate you bringing this to our attention.\n",
      "\n",
      "Sincerely,\n",
      "\n",
      "[Your Name]\n",
      "Support Specialist\n",
      "\n",
      "---\n",
      "\n",
      "### Why these messages work:\n",
      "\n",
      "*   **Immediate Empathy:** They start by acknowledging the user's frustration (\"I'm so sorry to hear...\", \"I can absolutely understand your frustration...\"). This validates their feelings and de-escalates the situation.\n",
      "*   **Takes Ownership:** Phrases like \"we're on it,\" \"I will personally escalate,\" and \"Let's work together\" show that you are taking responsibility and partnering with them for a solution.\n",
      "*   **Clear Call to Action:** They clearly and simply state what is needed next (screenshots, steps, etc.). Using a bulleted list makes it easy for a stressed user to follow.\n",
      "*   **Sets Expectations:** They explain what will happen after the user provides the information (\"I will escalate it,\" \"keep you updated\"). This restores a sense of control and clarity for the user.\n",
      "*   **Professional and Reassuring Tone:** The language is supportive and confident without being overly casual or robotic. It assures the user that their problem is important.\n"
     ]
    }
   ],
   "source": [
    "\n",
    "\n",
    "intial_state={\n",
    "    'review': \"I’ve been trying to log in for over an hour now, and the app keeps freezing on the authentication screen. I even tried reinstalling it, but no luck. This kind of bug is unacceptable, especially when it affects basic functionality.\"\n",
    "}\n",
    "\n",
    "final_state =   workflow.invoke(intial_state)\n",
    "print(final_state[\"response\"])\n",
    "\n",
    "\n",
    "\n"
   ]
  },
  {
   "cell_type": "code",
   "execution_count": null,
   "id": "98b77dae",
   "metadata": {},
   "outputs": [],
   "source": [
    "intial_state={\n",
    "    'review':\"The app is working good it is very fast and it solves most of my issues . thank you for this product\"\n",
    "}\n",
    "\n",
    "final_state =   workflow.invoke(intial_state)\n",
    "print(final_state[\"response\"])"
   ]
  },
  {
   "cell_type": "code",
   "execution_count": null,
   "id": "07a8c1af",
   "metadata": {},
   "outputs": [
    {
     "name": "stdout",
     "output_type": "stream",
     "text": [
      "Of course. Here is an empathetic and helpful resolution message crafted to de-escalate the situation and provide a clear path forward.\n",
      "\n",
      "***\n",
      "\n",
      "**Subject: Regarding Your Urgent Support Request [Ticket #XXXXXX]**\n",
      "\n",
      "Hi [User Name],\n",
      "\n",
      "I want to start by sincerely apologizing for the frustration and difficulty you've experienced. I’ve reviewed your message, and I completely understand your anger and the urgency of this situation. The experience you described is not the standard we aim for, and I am truly sorry that we let you down.\n",
      "\n",
      "I have personally taken ownership of your case, and it is now my highest priority.\n",
      "\n",
      "I am actively investigating the issue right now to determine the cause and find the fastest possible solution. You will not be passed around to different agents. I will be your single point of contact until this is fully resolved.\n",
      "\n",
      "I will provide you with a meaningful update within the next **[e.g., 60 minutes / 2 hours]**. You will not have to chase me for information; I will proactively keep you informed of my progress.\n",
      "\n",
      "If you have any other immediate details to add, please reply directly to this email. If you would prefer to speak on the phone, let me know a good number and time to reach you.\n",
      "\n",
      "Again, I am truly sorry for this negative experience. I am committed to making this right for you.\n",
      "\n",
      "Best regards,\n",
      "\n",
      "[Your Name]\n",
      "Senior Support Specialist\n",
      "[Company Name]\n"
     ]
    }
   ],
   "source": [
    "intial_state={\n",
    "    'review':\"his app is very bad you guys are theives?\"\n",
    "}\n",
    "\n",
    "final_state =   workflow.invoke(intial_state)\n",
    "print(final_state[\"response\"])"
   ]
  }
 ],
 "metadata": {
  "kernelspec": {
   "display_name": "AGENTIC_UNDERSTANDING (3.10.18)",
   "language": "python",
   "name": "python3"
  },
  "language_info": {
   "codemirror_mode": {
    "name": "ipython",
    "version": 3
   },
   "file_extension": ".py",
   "mimetype": "text/x-python",
   "name": "python",
   "nbconvert_exporter": "python",
   "pygments_lexer": "ipython3",
   "version": "3.10.18"
  }
 },
 "nbformat": 4,
 "nbformat_minor": 5
}
