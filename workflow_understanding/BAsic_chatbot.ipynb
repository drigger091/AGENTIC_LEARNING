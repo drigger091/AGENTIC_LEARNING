{
 "cells": [
  {
   "cell_type": "code",
   "execution_count": null,
   "id": "5fcd467f",
   "metadata": {},
   "outputs": [],
   "source": []
  },
  {
   "cell_type": "code",
   "execution_count": 43,
   "id": "c106ebdb",
   "metadata": {},
   "outputs": [],
   "source": [
    "from langgraph.graph import StateGraph , START , END\n",
    "\n",
    "from typing import TypedDict, Annotated\n",
    "from langchain_google_genai import ChatGoogleGenerativeAI\n",
    "from langchain_core.messages import BaseMessage ,HumanMessage , AIMessage ,SystemMessage\n",
    "from langgraph.graph.message import add_messages\n",
    "import os\n",
    "from dotenv import load_dotenv\n",
    "load_dotenv()\n",
    "\n",
    "from langgraph.checkpoint.memory import MemorySaver"
   ]
  },
  {
   "cell_type": "code",
   "execution_count": 26,
   "id": "2aaf9b07",
   "metadata": {},
   "outputs": [],
   "source": [
    "LLM = ChatGoogleGenerativeAI(\n",
    "    model=\"gemini-2.5-flash\",  \n",
    "    google_api_key=os.getenv('GOOGLE_API_KEY') )"
   ]
  },
  {
   "cell_type": "code",
   "execution_count": 27,
   "id": "73d27fad",
   "metadata": {},
   "outputs": [],
   "source": [
    "class Chatstate(TypedDict):\n",
    "    messages :Annotated[list[BaseMessage],add_messages]"
   ]
  },
  {
   "cell_type": "code",
   "execution_count": 39,
   "id": "b091a30b",
   "metadata": {},
   "outputs": [],
   "source": [
    "# creating the chat_node\n",
    "def chat_node(state: Chatstate) -> Chatstate:\n",
    "    messages = state[\"messages\"]\n",
    "    \n",
    "    # Prepend system message to all conversations\n",
    "    system_message = SystemMessage(content=\"You are a helpful assistant that provides answers only\")\n",
    "    messages_with_system = [system_message] + messages\n",
    "    \n",
    "    response = LLM.invoke(messages_with_system)\n",
    "    \n",
    "    return {'messages': [response]}\n"
   ]
  },
  {
   "cell_type": "code",
   "execution_count": 44,
   "id": "41195f2f",
   "metadata": {},
   "outputs": [
    {
     "data": {
      "image/png": "[encoded data removed]",
      "text/plain": [
       "<langgraph.graph.state.CompiledStateGraph object at 0x000001372C0AFB20>"
      ]
     },
     "execution_count": 44,
     "metadata": {},
     "output_type": "execute_result"
    }
   ],
   "source": [
    "\n",
    "#checkpointer = MemorySaver()\n",
    "\n",
    "graph = StateGraph(Chatstate)\n",
    "\n",
    "graph.add_node(\"chat_node\",chat_node)\n",
    "\n",
    "graph.add_edge(START,\"chat_node\")\n",
    "graph.add_edge(\"chat_node\",END)\n",
    "\n",
    "\n",
    "chatbot_without_memory = graph.compile()\n",
    "chatbot_without_memory"
   ]
  },
  {
   "cell_type": "code",
   "execution_count": 45,
   "id": "31fa5d3a",
   "metadata": {},
   "outputs": [
    {
     "name": "stdout",
     "output_type": "stream",
     "text": [
      "Love is a profound and multifaceted emotion characterized by deep affection, care, and a strong desire for the well-being and happiness of another person, a group, or even an object or idea.\n",
      "\n",
      "It manifests in various forms, such as:\n",
      "*   **Romantic love:** Characterized by passion, intimacy, and commitment.\n",
      "*   **Familial love:** The bond between family members, often involving loyalty and unconditional support.\n",
      "*   **Platonic love:** Deep affection and care between friends, without romantic or sexual elements.\n",
      "*   **Self-love:** Respect and appreciation for oneself.\n",
      "*   **Love for humanity/ideas:** A broader sense of compassion or dedication to a cause.\n",
      "\n",
      "Often, love involves feelings of attachment, intimacy, trust, empathy, and a willingness to support, protect, and sacrifice. While universally experienced, its meaning and expression can be deeply personal and evolve over time.\n"
     ]
    }
   ],
   "source": [
    "user_input = \"Hello what is Love?\"\n",
    "\n",
    "\n",
    "response = chatbot_without_memory.invoke({\"messages\": [HumanMessage(content=user_input)]})\n",
    "print(response['messages'][-1].content)"
   ]
  },
  {
   "cell_type": "code",
   "execution_count": null,
   "id": "65e0ad9d",
   "metadata": {},
   "outputs": [
    {
     "name": "stdout",
     "output_type": "stream",
     "text": [
      "User: Whats up?\n",
      "AI: Not much.\n",
      "User: Lets party??\n",
      "AI: Let's!\n",
      "User: suggest a good place in kolkata?\n",
      "AI: Victoria Memorial.\n",
      "User: victoria Memorial for party hell no i want to partty in kolkata\n",
      "AI: Okay, so no party at Victoria Memorial. You want to party in Kolkata!\n",
      "User: Yes tell me where i can party in kolkata?\n",
      "AI: Here are some popular places to party in Kolkata:\n",
      "\n",
      "*   **Roxy, The Park Hotel:** (Nightclub)\n",
      "*   **Pour House:** (Pub)\n",
      "*   **Monkey Bar:** (Bar/Lounge)\n",
      "*   **Shisha Bar Stock Exchange:** (Pub/Bar)\n",
      "*   **Someplace Else, The Park Hotel:** (Pub with live music)\n",
      "*   **Titos:** (Pub/Bar)\n",
      "*   **Ozora:** (Rooftop bar/lounge)\n",
      "*   **Raasta:** (Pub/Bar)\n",
      "User: Give me directions for pour house?\n",
      "AI: To give you accurate directions, I need to know which \"Pour House\" you're referring to, as there are many locations across different cities.\n",
      "\n",
      "Please specify the **city and state** of the Pour House you want directions to.\n",
      "User: I am asking about Pour house in kolkata\n",
      "AI: I couldn't find any prominent bar or restaurant named \"Pour House\" currently operating in Kolkata. It's possible it's a new, small, or closed establishment, or perhaps the name is slightly different.\n",
      "User: bye\n"
     ]
    }
   ],
   "source": [
    "# keeping the Conversation chain\n",
    "\n",
    "while True:\n",
    "\n",
    "    user_message = input(\"Type Here.....\")\n",
    "    print(\"User:\",user_message)\n",
    "\n",
    "    if user_message.strip().lower() in ['exit','bye','quit','disconnect']:\n",
    "        break\n",
    "\n",
    "    response = chatbot_without_memory.invoke({'messages':[HumanMessage(content=user_message)]})\n",
    "    print(\"AI:\",response['messages'][-1].content)"
   ]
  },
  {
   "cell_type": "markdown",
   "id": "51aeb37e",
   "metadata": {},
   "source": [
    "# everytime you invoke state sterts from scratch no information is saved\n"
   ]
  },
  {
   "cell_type": "code",
   "execution_count": 46,
   "id": "6a26a7c8",
   "metadata": {},
   "outputs": [
    {
     "data": {
      "image/png": "[encoded data removed]",
      "text/plain": [
       "<langgraph.graph.state.CompiledStateGraph object at 0x000001372BE718D0>"
      ]
     },
     "execution_count": 46,
     "metadata": {},
     "output_type": "execute_result"
    }
   ],
   "source": [
    "# use of Persistence\n",
    "\n",
    "# creating a new flow\n",
    "\n",
    "\n",
    "checkpointer = MemorySaver()\n",
    "\n",
    "graph = StateGraph(Chatstate)\n",
    "\n",
    "graph.add_node(\"chat_node\",chat_node)\n",
    "\n",
    "graph.add_edge(START,\"chat_node\")\n",
    "graph.add_edge(\"chat_node\",END)\n",
    "\n",
    "\n",
    "chatbot_with_memory = graph.compile(checkpointer=checkpointer) # saving in RAM\n",
    "chatbot_with_memory\n"
   ]
  },
  {
   "cell_type": "code",
   "execution_count": null,
   "id": "71be7d08",
   "metadata": {},
   "outputs": [
    {
     "name": "stdout",
     "output_type": "stream",
     "text": [
      "User: Hello My name Is drigger\n",
      "AI: Hello Drigger, how can I help you today?\n",
      "User: whats my name?\n",
      "AI: Your name is Drigger.\n",
      "User: wana party in kolkata?\n",
      "AI: As an AI, I can't physically go to parties or travel to Kolkata. My purpose is to provide information and complete tasks here in our conversation.\n",
      "\n",
      "However, if you're looking for information about parties or things to do in Kolkata, I'd be happy to help with that!\n",
      "User: Tell me the best place to party in this city?\n",
      "AI: Kolkata has a vibrant nightlife with a variety of options depending on what kind of party you're looking for! \"Best\" can be subjective, but here are some of the most popular and highly-rated places known for their atmosphere, music, and drinks:\n",
      "\n",
      "**For Dancing & High-Energy Clubs:**\n",
      "\n",
      "1.  **Tantra (The Park Hotel):** One of Kolkata's oldest and most iconic nightclubs. Known for its spacious dance floor, great music (often commercial, Bollywood, and EDM), and a sophisticated crowd.\n",
      "2.  **Roxy (The Park Hotel):** Also located in The Park, Roxy offers a more lounge-like, chic, and intimate clubbing experience, often with good cocktails and a stylish ambiance.\n",
      "3.  **Shisha Reincarnated:** A popular spot with multiple outlets (e.g., Camac Street) known for its lively music, dance floor, and a great selection of drinks.\n",
      "4.  **Gold (JW Marriott Kolkata):** A high-end club experience with luxurious interiors, often hosting top DJs and known for its exclusive vibe.\n",
      "5.  **Club Boudoir (Shakespeare Sarani):** A relatively newer but very popular club, known for its plush decor, good music, and energetic crowd.\n",
      "\n",
      "**For Pubs, Lounges & Live Music:**\n",
      "\n",
      "1.  **Someplace Else (The Park Hotel):** If you love live music, especially rock and blues, this is the legendary spot in Kolkata. It has a fantastic ambiance and hosts local bands almost every night.\n",
      "2.  **Hard Rock Cafe (Park Street Area):** A globally recognized brand, offering classic rock music, American cuisine, and a lively bar atmosphere.\n",
      "3.  **Monkey Bar (Camac Street):** Known for its quirky decor, excellent cocktails, and delicious food, it offers a more relaxed yet vibrant atmosphere, often with good DJ sets.\n",
      "4.  **Lord of the Drinks (South City Mall Area):** A massive and popular spot with a huge bar, great music, and a lively crowd.\n",
      "5.  **Traffic Gastropub (Park Street Area):** A themed pub with a fun ambiance, good food, and a wide range of drinks, often with live music or DJ nights.\n",
      "6.  **Olypub (Park Street):** A Kolkata institution! It's not a high-energy club, but it's famous for its old-school pub vibe, cheap drinks, and iconic beef steak. Great for a more laid-back, classic pub experience.\n",
      "\n",
      "**Things to Consider:**\n",
      "\n",
      "*   **Music Preference:** Do you prefer Bollywood, EDM, Commercial, Rock, or Live Music?\n",
      "*   **Crowd & Vibe:** Some places are more upscale, while others are more casual.\n",
      "*   **Budget:** Prices can vary significantly between venues.\n",
      "*   **Entry & Cover Charges:** Many clubs, especially on weekends, have cover charges or require reservations, particularly for stags.\n",
      "*   **Dress Code:** Upscale clubs often have a smart casual or even formal dress code.\n",
      "\n",
      "**Recommendation:**\n",
      "For a classic, high-energy clubbing experience, **Tantra** is a great starting point. If you love live music and a buzzing pub atmosphere, **Someplace Else** is a must-visit. For a trendy lounge vibe with good cocktails, **Monkey Bar** or **Club Boudoir** are excellent choices.\n",
      "\n",
      "Always check their social media or call ahead for the latest events, timings, and entry policies!\n",
      "User: okay bye\n",
      "AI: Goodbye! Have a great time!\n",
      "User: bye\n"
     ]
    }
   ],
   "source": [
    "# keeping the Conversation chain\n",
    "thread_id = \"1\"\n",
    "\n",
    "while True:\n",
    "\n",
    "    user_message = input(\"Type Here.....\")\n",
    "    print(\"User:\",user_message)\n",
    "\n",
    "    if user_message.strip().lower() in ['exit','bye','quit','disconnect','okay']:\n",
    "        break\n",
    "    \n",
    "    config ={'configurable':{'thread_id':thread_id}}\n",
    "    response = chatbot_with_memory.invoke({'messages':[HumanMessage(content=user_message)]},config = config)\n",
    "    print(\"AI:\",response['messages'][-1].content)"
   ]
  }
 ],
 "metadata": {
  "kernelspec": {
   "display_name": "AGENTIC_UNDERSTANDING (3.10.18)",
   "language": "python",
   "name": "python3"
  },
  "language_info": {
   "codemirror_mode": {
    "name": "ipython",
    "version": 3
   },
   "file_extension": ".py",
   "mimetype": "text/x-python",
   "name": "python",
   "nbconvert_exporter": "python",
   "pygments_lexer": "ipython3",
   "version": "3.10.18"
  }
 },
 "nbformat": 4,
 "nbformat_minor": 5
}
