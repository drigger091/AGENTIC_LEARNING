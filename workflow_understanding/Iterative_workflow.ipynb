{
 "cells": [
  {
   "cell_type": "code",
   "execution_count": 13,
   "id": "f2160438",
   "metadata": {},
   "outputs": [],
   "source": [
    "\n",
    "from langgraph.graph import StateGraph,START, END\n",
    "from typing import TypedDict, Literal, Annotated\n",
    "\n",
    "from langchain_core.messages import SystemMessage, HumanMessage\n",
    "import operator\n",
    "import os\n",
    "from dotenv import load_dotenv\n",
    "from langchain_google_genai import GoogleGenerativeAI\n",
    "import os\n",
    "import warnings\n",
    "warnings.filterwarnings(\"ignore\")\n",
    "load_dotenv()\n",
    "from langchain.output_parsers import PydanticOutputParser"
   ]
  },
  {
   "cell_type": "code",
   "execution_count": null,
   "id": "eeffaa8b",
   "metadata": {},
   "outputs": [],
   "source": []
  },
  {
   "cell_type": "code",
   "execution_count": 14,
   "id": "dd73431d",
   "metadata": {},
   "outputs": [],
   "source": [
    "#setting up three differt LLMs\n",
    "\n",
    "generator_LLM = GoogleGenerativeAI(\n",
    "    model=\"gemini-2.5-pro\",  \n",
    "    google_api_key=os.getenv('GOOGLE_API_KEY') )\n",
    "\n",
    "Evaluator_LLM = GoogleGenerativeAI(\n",
    "    model=\"gemini-2.5-pro\",  \n",
    "    google_api_key=os.getenv('GOOGLE_API_KEY') )\n",
    "\n",
    "Optimizer_LLM = GoogleGenerativeAI(\n",
    "    model=\"gemini-2.5-pro\",  \n",
    "    google_api_key=os.getenv('GOOGLE_API_KEY') )"
   ]
  },
  {
   "cell_type": "code",
   "execution_count": 15,
   "id": "1cd7b4bf",
   "metadata": {},
   "outputs": [],
   "source": [
    "from pydantic import BaseModel, Field\n",
    "\n",
    "class TweetEvaluation(BaseModel):\n",
    "    evaluation: Literal[\"approved\", \"needs_improvement\"] = Field(..., description=\"Final evaluation result.\")\n",
    "    feedback: str = Field(..., description=\"feedback for the tweet.\")\n",
    "\n",
    "\n",
    "parser_evaluation  = PydanticOutputParser(pydantic_object=TweetEvaluation)"
   ]
  },
  {
   "cell_type": "code",
   "execution_count": 16,
   "id": "d396968a",
   "metadata": {},
   "outputs": [],
   "source": [
    "def structured_evaluator_LLM_invoke(tweet:str) ->TweetEvaluation:\n",
    "\n",
    "    prompt =(\n",
    "\n",
    "         f\"Tweet: {tweet}\\n\"\n",
    "        \"Evaluate the above tweet and respond strictly in JSON format as follows:\\n\"\n",
    "        \"{\\\"evaluation\\\": <'approved' or 'needs_improvement'>, \"\n",
    "        \"\\\"feedback\\\": <short constructive feedback for the tweet>}\\n\"\n",
    "        \"Do not include any extra text, explanations, or markdown. Only return valid JSON.\"\n",
    "\n",
    "    )\n",
    "\n",
    "    raw_response = Evaluator_LLM.predict(prompt)\n",
    "    parsed = parser_evaluation.parse(raw_response)\n",
    "    return parsed"
   ]
  },
  {
   "cell_type": "code",
   "execution_count": 17,
   "id": "697eb760",
   "metadata": {},
   "outputs": [],
   "source": [
    "class Tweetstate(TypedDict):\n",
    "\n",
    "    topic :str\n",
    "    tweet :str\n",
    "    evaluation :Literal[\"approved\",\"needs improvement\"]\n",
    "    feedback :str\n",
    "    iteration :int\n",
    "    max_iterations :int"
   ]
  },
  {
   "cell_type": "code",
   "execution_count": 18,
   "id": "b7478297",
   "metadata": {},
   "outputs": [],
   "source": [
    "def generate_tweet(state:Tweetstate)-> Tweetstate:\n",
    "\n",
    "    #prompt\n",
    "    messages = [\n",
    "        SystemMessage(content=\"You are a funny and clever Twitter/X influencer.\"),\n",
    "        HumanMessage(content=f\"\"\"\n",
    "Write a short, original, and hilarious tweet on the topic: \"{state['topic']}\".\n",
    "\n",
    "Rules:\n",
    "- Do NOT use question-answer format.\n",
    "- Max 280 characters.\n",
    "- Use observational humor, irony, sarcasm, or cultural references.\n",
    "- Think in meme logic, punchlines, or relatable takes.\n",
    "- Use simple, day to day english\n",
    "\"\"\")\n",
    "    ]\n",
    "\n",
    "    #send to generatir LLM\n",
    "\n",
    "    response = generator_LLM.invoke(messages)\n",
    "\n",
    "\n",
    "    #return response\n",
    "\n",
    "    return  { \"tweet\":response}"
   ]
  },
  {
   "cell_type": "code",
   "execution_count": 19,
   "id": "503880fd",
   "metadata": {},
   "outputs": [],
   "source": [
    "def evaluate_tweet(state:Tweetstate)-> Tweetstate:\n",
    "\n",
    "   #prompt\n",
    "\n",
    " messages = [\n",
    "    SystemMessage(content=\"You are a ruthless, no-laugh-given Twitter critic. You evaluate tweets based on humor, originality, virality, and tweet format.\"),\n",
    "    HumanMessage(content=f\"\"\"\n",
    "Evaluate the following tweet:\n",
    "\n",
    "Tweet: \"{state['tweet']}\"\n",
    "\n",
    "Use the criteria below to evaluate the tweet:\n",
    "\n",
    "1. Originality – Is this fresh, or have you seen it a hundred times before?  \n",
    "2. Humor – Did it genuinely make you smile, laugh, or chuckle?  \n",
    "3. Punchiness – Is it short, sharp, and scroll-stopping?  \n",
    "4. Virality Potential – Would people retweet or share it?  \n",
    "5. Format – Is it a well-formed tweet (not a setup-punchline joke, not a Q&A joke, and under 280 characters)?\n",
    "\n",
    "Auto-reject if:\n",
    "- It's written in question-answer format (e.g., \"Why did...\" or \"What happens when...\")\n",
    "- It exceeds 280 characters\n",
    "- It reads like a traditional setup-punchline joke\n",
    "- Dont end with generic, throwaway, or deflating lines that weaken the humor (e.g., “Masterpieces of the auntie-uncle universe” or vague summaries)\n",
    "\n",
    "### Respond ONLY in structured format:\n",
    "- evaluation: \"approved\" or \"needs_improvement\"  \n",
    "- feedback: One paragraph explaining the strengths and weaknesses \n",
    "\"\"\")\n",
    "]\n",
    "     \n",
    " response = structured_evaluator_LLM_invoke(messages)\n",
    "\n",
    "\n",
    " return {'evaluation':response.evaluation,'feedback':response.feedback}\n",
    "     \n",
    "     "
   ]
  },
  {
   "cell_type": "code",
   "execution_count": 20,
   "id": "6db1424c",
   "metadata": {},
   "outputs": [],
   "source": [
    "def route_evaluation(state: Tweetstate)->Tweetstate:\n",
    "\n",
    "    if state['evaluation'] == 'approved' or state['iteration'] >= state['max_iterations']:\n",
    "        return 'approved'\n",
    "    else:\n",
    "        return 'needs_improvement'"
   ]
  },
  {
   "cell_type": "code",
   "execution_count": 21,
   "id": "f3d1991a",
   "metadata": {},
   "outputs": [],
   "source": [
    "def optimize_tweet(state:Tweetstate)->Tweetstate:\n",
    "\n",
    "    #prompt\n",
    "\n",
    "      messages = [\n",
    "        SystemMessage(content=\"You punch up tweets for virality and humor based on given feedback.\"),\n",
    "        HumanMessage(content=f\"\"\"\n",
    "Improve the tweet based on this feedback:\n",
    "\"{state['feedback']}\"\n",
    "\n",
    "Topic: \"{state['topic']}\"\n",
    "Original Tweet:\n",
    "{state['tweet']}\n",
    "\n",
    "Re-write it as a short, viral-worthy tweet. Avoid Q&A style and stay under 280 characters.\n",
    "\"\"\")\n",
    "    ]\n",
    "      \n",
    "      response = Optimizer_LLM.invoke(messages)\n",
    "      iteration = state['iteration'] +  1\n",
    "      \n",
    "      return  {'tweet':response,'iteration':iteration}"
   ]
  },
  {
   "cell_type": "code",
   "execution_count": 22,
   "id": "0a64b968",
   "metadata": {},
   "outputs": [
    {
     "data": {
      "image/png": "[encoded data removed]",
      "text/plain": [
       "<langgraph.graph.state.CompiledStateGraph object at 0x000001927CBFE260>"
      ]
     },
     "execution_count": 22,
     "metadata": {},
     "output_type": "execute_result"
    }
   ],
   "source": [
    "graph = StateGraph(Tweetstate)\n",
    "\n",
    "graph.add_node(\"generate\",generate_tweet)\n",
    "graph.add_node(\"evaluate\",evaluate_tweet)\n",
    "graph.add_node(\"optimize\",optimize_tweet)\n",
    "\n",
    "\n",
    "\n",
    "graph.add_edge(START,'generate')\n",
    "graph.add_edge('generate','evaluate')\n",
    "\n",
    "graph.add_conditional_edges('evaluate', route_evaluation, {'approved': END, 'needs_improvement': 'optimize'})\n",
    "graph.add_edge('optimize', 'evaluate')\n",
    "\n",
    "workflow = graph.compile()\n",
    "\n",
    "workflow"
   ]
  },
  {
   "cell_type": "code",
   "execution_count": 27,
   "id": "0e02caef",
   "metadata": {},
   "outputs": [
    {
     "name": "stdout",
     "output_type": "stream",
     "text": [
      "{'topic': 'Asshole', 'tweet': \"You're not a true asshole until you leave 3 seconds on the microwave. It’s not just a minor inconvenience, it’s a psychological power move. It says “I am chaos, and my work here is done.”\", 'evaluation': 'approved', 'feedback': \"This tweet succeeds by taking a highly relatable, mundane annoyance and reframing it with hilariously dramatic language. Calling it a 'psychological power move' and ending with the 'I am chaos' declaration gives a fresh, funny voice to a common observation. It's not a groundbreaking concept, but the execution is sharp, memorable, and built for virality.\", 'iteration': 1}\n"
     ]
    }
   ],
   "source": [
    "\n",
    "\n",
    "initial_state = {\n",
    "    \"topic\": \"Asshole\",\n",
    "    \"iteration\": 1,\n",
    "    \"max_iteration\": 5\n",
    "}\n",
    "result = workflow.invoke(initial_state)\n",
    "\n",
    "print(result)"
   ]
  },
  {
   "cell_type": "code",
   "execution_count": 24,
   "id": "964181b1",
   "metadata": {},
   "outputs": [
    {
     "name": "stdout",
     "output_type": "stream",
     "text": [
      "My toddler and the cat have formed a sleeper cell. Their mission: to systematically destroy every roll of toilet paper in the house. I'm trying to negotiate but their demands are unreasonable.\n"
     ]
    }
   ],
   "source": [
    "print(result['tweet'])"
   ]
  },
  {
   "cell_type": "code",
   "execution_count": 25,
   "id": "4f5f3905",
   "metadata": {},
   "outputs": [
    {
     "name": "stdout",
     "output_type": "stream",
     "text": [
      "approved\n"
     ]
    }
   ],
   "source": [
    "print(result[\"evaluation\"])"
   ]
  },
  {
   "cell_type": "code",
   "execution_count": 26,
   "id": "0a73f851",
   "metadata": {},
   "outputs": [
    {
     "name": "stdout",
     "output_type": "stream",
     "text": [
      "This tweet excels by applying a high-stakes, dramatic framework ('sleeper cell,' 'negotiation') to a mundane and highly relatable domestic problem. The humor is built through this juxtaposition, and the final line about 'unreasonable demands' serves as an excellent punchline that reinforces the central gag. It's original, well-paced, and perfectly formatted for virality among parents and pet owners.\n"
     ]
    }
   ],
   "source": [
    "print(result[\"feedback\"])"
   ]
  }
 ],
 "metadata": {
  "kernelspec": {
   "display_name": "AGENTIC_UNDERSTANDING (3.10.18)",
   "language": "python",
   "name": "python3"
  },
  "language_info": {
   "codemirror_mode": {
    "name": "ipython",
    "version": 3
   },
   "file_extension": ".py",
   "mimetype": "text/x-python",
   "name": "python",
   "nbconvert_exporter": "python",
   "pygments_lexer": "ipython3",
   "version": "3.10.18"
  }
 },
 "nbformat": 4,
 "nbformat_minor": 5
}
