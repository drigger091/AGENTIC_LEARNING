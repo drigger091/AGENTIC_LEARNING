{
 "cells": [
  {
   "cell_type": "code",
   "execution_count": 5,
   "id": "1103c10c",
   "metadata": {},
   "outputs": [],
   "source": [
    "from langgraph.graph import StateGraph , START , END\n",
    "from typing import TypedDict"
   ]
  },
  {
   "cell_type": "code",
   "execution_count": 20,
   "id": "94feeba9",
   "metadata": {},
   "outputs": [],
   "source": [
    "#define state\n",
    "\n",
    "class BMIstate(TypedDict):\n",
    "\n",
    "    weight : float\n",
    "    height :float\n",
    "    BMI :float\n",
    "    category :str"
   ]
  },
  {
   "cell_type": "code",
   "execution_count": 25,
   "id": "6ec5ad19",
   "metadata": {},
   "outputs": [],
   "source": [
    "def cal_BMI(state:BMIstate) -> BMIstate:\n",
    "    weight = state[\"weight\"]\n",
    "    height = state[\"height\"]\n",
    "\n",
    "    BMI = weight/(height**2)\n",
    "\n",
    "    state[\"BMI\"] = round(BMI,2)\n",
    "\n",
    "    return state\n",
    "\n",
    "\n"
   ]
  },
  {
   "cell_type": "code",
   "execution_count": 26,
   "id": "79ce921d",
   "metadata": {},
   "outputs": [],
   "source": [
    "def label_BMI(state:BMIstate) -> BMIstate:\n",
    "    bmi = state['BMI']\n",
    "\n",
    "    if bmi < 18.5 :\n",
    "        state['category'] = \"Underweight\"\n",
    "    elif 18.5 <= bmi < 25 :\n",
    "        state['category'] = \"Normal\"\n",
    "    elif 25 <= bmi < 30 :\n",
    "        state['category'] = \"Overweight\"\n",
    "    else:\n",
    "        state['category'] = \"Obese\"\n",
    "\n",
    "    return state                    #state is getting updated\n"
   ]
  },
  {
   "cell_type": "code",
   "execution_count": 28,
   "id": "c4aef3a0",
   "metadata": {},
   "outputs": [],
   "source": [
    "# define your graph\n",
    "\n",
    "graph = StateGraph(BMIstate)\n",
    "\n",
    "#adding nodes to graph\n",
    "\n",
    "graph.add_node(\"calculate_BMI\",cal_BMI)\n",
    "graph.add_node(\"label_BMI\",label_BMI)\n",
    "\n",
    "#add edges\n",
    "\n",
    "graph.add_edge(START,\"calculate_BMI\")\n",
    "graph.add_edge(\"calculate_BMI\",\"label_BMI\")\n",
    "graph.add_edge(\"label_BMI\", END)\n",
    "\n",
    "\n",
    "# compile the graph\n",
    "workflow = graph.compile()\n",
    "#execute the graph"
   ]
  },
  {
   "cell_type": "code",
   "execution_count": 29,
   "id": "fc394697",
   "metadata": {},
   "outputs": [
    {
     "name": "stdout",
     "output_type": "stream",
     "text": [
      "{'weight': 80, 'height': 1.83, 'BMI': 23.89, 'category': 'Normal'}\n"
     ]
    }
   ],
   "source": [
    "initial_state ={'weight':80,'height':1.83}\n",
    "final_state = workflow.invoke(initial_state)\n",
    "print(final_state)"
   ]
  },
  {
   "cell_type": "code",
   "execution_count": 30,
   "id": "d5e7723d",
   "metadata": {},
   "outputs": [
    {
     "data": {
      "image/png": "[encoded data removed]",
      "text/plain": [
       "<IPython.core.display.Image object>"
      ]
     },
     "execution_count": 30,
     "metadata": {},
     "output_type": "execute_result"
    }
   ],
   "source": [
    "#viewing the graph\n",
    "\n",
    "from IPython.display import Image\n",
    "Image(workflow.get_graph().draw_mermaid_png())"
   ]
  },
  {
   "cell_type": "code",
   "execution_count": null,
   "id": "f0dad68a",
   "metadata": {},
   "outputs": [],
   "source": []
  }
 ],
 "metadata": {
  "kernelspec": {
   "display_name": "AGENTIC_UNDERSTANDING (3.10.18)",
   "language": "python",
   "name": "python3"
  },
  "language_info": {
   "codemirror_mode": {
    "name": "ipython",
    "version": 3
   },
   "file_extension": ".py",
   "mimetype": "text/x-python",
   "name": "python",
   "nbconvert_exporter": "python",
   "pygments_lexer": "ipython3",
   "version": "3.10.18"
  }
 },
 "nbformat": 4,
 "nbformat_minor": 5
}
