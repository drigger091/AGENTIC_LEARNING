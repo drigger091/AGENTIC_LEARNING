{
 "cells": [
  {
   "cell_type": "code",
   "execution_count": null,
   "id": "91f5c1e3",
   "metadata": {},
   "outputs": [],
   "source": [
    "\n",
    "\n",
    "from langgraph.graph import StateGraph, START, END\n",
    "from typing import TypedDict, Annotated\n",
    "from langchain_core.messages import BaseMessage, HumanMessage\n",
    "from langgraph.graph.message import add_messages\n",
    "from dotenv import load_dotenv\n",
    "\n",
    "from langgraph.prebuilt import ToolNode, tools_condition\n",
    "from langchain_community.tools import DuckDuckGoSearchRun\n",
    "from langchain_core.tools import tool\n",
    "from langchain_google_genai import GoogleGenerativeAI ,ChatGoogleGenerativeAI\n",
    "import requests\n",
    "import random\n",
    "import warnings\n",
    "warnings.filterwarnings(\"ignore\")\n",
    "\n",
    "import os"
   ]
  },
  {
   "cell_type": "code",
   "execution_count": 15,
   "id": "5f04d688",
   "metadata": {},
   "outputs": [],
   "source": [
    "load_dotenv()\n",
    "\n",
    "LLM = ChatGoogleGenerativeAI(\n",
    "    model=\"gemini-2.5-flash\",  \n",
    "    google_api_key=os.getenv('GOOGLE_API_KEY') )"
   ]
  },
  {
   "cell_type": "code",
   "execution_count": 12,
   "id": "6089dc7c",
   "metadata": {},
   "outputs": [],
   "source": [
    "# making the tools\n",
    "\n",
    "search_tool = DuckDuckGoSearchRun(region =\"us-en\")\n",
    "\n",
    "\n",
    "@tool\n",
    "def calculator(first_num :float ,second_num:float,operation:str)->dict:\n",
    "\n",
    "    \"\"\"\n",
    "    Perform basic arithmatic Operations on two numbers,\n",
    "    Supported Operations : add ,substraction,multiply, Division\n",
    "    \n",
    "    \"\"\"\n",
    "\n",
    "    try:\n",
    "        if operation ==\"add\":\n",
    "            result = first_num + second_num\n",
    "        elif operation ==\"substraction\":\n",
    "            result =first_num - second_num\n",
    "        elif operation ==\"multiply\":\n",
    "            result = first_num * second_num\n",
    "        elif operation== \"division\":\n",
    "            if second_num == 0:\n",
    "                return{\"error\":\"Division by zero is not allowed\"}\n",
    "            result = first_num/second_num\n",
    "        else:\n",
    "            return{'error':f\"Unsupported Operation '{operation}'\"}\n",
    "        \n",
    "        return {\"first_num\":first_num,\"second_num\":second_num,\"operation\":operation,\"result\":result}\n",
    "    \n",
    "    except Exception as e:\n",
    "        return {'error':str(e)}\n",
    "\n",
    "\n",
    "\n",
    "\n"
   ]
  },
  {
   "cell_type": "code",
   "execution_count": null,
   "id": "d2555776",
   "metadata": {},
   "outputs": [],
   "source": [
    "#alpha_vantage _api key =\" 8GVE9I888764Y2Z2\""
   ]
  },
  {
   "cell_type": "code",
   "execution_count": 11,
   "id": "41452c47",
   "metadata": {},
   "outputs": [],
   "source": [
    "# stock price seraching tool\n",
    "\n",
    "@tool\n",
    "def get_stock_price(symbol:str) ->dict:\n",
    "    \"\"\"\n",
    "    Fetch latest stock prices for a given symbol(e.g \"AAPL\",\"TSLA\")\n",
    "    Using alpha vantage with api key in url\n",
    "    \"\"\"\n",
    "    url = f\"https://www.alphavantage.co/query?function=GLOBAL_QUOTE&symbol={symbol}&apikey=8GVE9I888764Y2Z2\"\n",
    "    r = requests.get(url)\n",
    "    return r.json()"
   ]
  },
  {
   "cell_type": "code",
   "execution_count": 16,
   "id": "f7634685",
   "metadata": {},
   "outputs": [],
   "source": [
    "#tool ode set up\n",
    "\n",
    "tools = [get_stock_price,search_tool,calculator]\n",
    "\n",
    "#intyegrate llm with tools\n",
    "llm_with_tools = LLM.bind_tools(tools)\n"
   ]
  },
  {
   "cell_type": "code",
   "execution_count": 18,
   "id": "7bf5a520",
   "metadata": {},
   "outputs": [],
   "source": [
    "#declare state\n",
    "\n",
    "class chatstate(TypedDict):\n",
    "    messages:Annotated[list[BaseMessage],add_messages]"
   ]
  },
  {
   "cell_type": "code",
   "execution_count": 19,
   "id": "8ffb574c",
   "metadata": {},
   "outputs": [],
   "source": [
    "def chat_node(state:chatstate)->chatstate:\n",
    "\n",
    "    \"\"\"\n",
    "    LLM node may answer or request a tool\n",
    "    \n",
    "    \"\"\"\n",
    "    messages = state[\"messages\"]\n",
    "    response = llm_with_tools.invoke(messages)\n",
    "    return {\"messages\":[response]}\n",
    "\n",
    "tool_node = ToolNode(tools)"
   ]
  },
  {
   "cell_type": "code",
   "execution_count": 20,
   "id": "830d45d0",
   "metadata": {},
   "outputs": [
    {
     "data": {
      "text/plain": [
       "<langgraph.graph.state.StateGraph at 0x1d728f28850>"
      ]
     },
     "execution_count": 20,
     "metadata": {},
     "output_type": "execute_result"
    }
   ],
   "source": [
    "#graph nodes\n",
    "\n",
    "\n",
    "\n",
    "# graph structure\n",
    "graph = StateGraph(chatstate)\n",
    "graph.add_node(\"chat_node\", chat_node)\n",
    "graph.add_node(\"tools\", tool_node)\n",
    "\n"
   ]
  },
  {
   "cell_type": "code",
   "execution_count": 21,
   "id": "b767496c",
   "metadata": {},
   "outputs": [
    {
     "data": {
      "text/plain": [
       "<langgraph.graph.state.StateGraph at 0x1d728f28850>"
      ]
     },
     "execution_count": 21,
     "metadata": {},
     "output_type": "execute_result"
    }
   ],
   "source": [
    "graph.add_edge(START, \"chat_node\")\n",
    "\n",
    "# If the LLM asked for a tool, go to ToolNode; else finish\n",
    "graph.add_conditional_edges(\"chat_node\", tools_condition)\n",
    "\n",
    "graph.add_edge(\"tools\", \"chat_node\")    "
   ]
  },
  {
   "cell_type": "code",
   "execution_count": 22,
   "id": "a185e4e0",
   "metadata": {},
   "outputs": [
    {
     "data": {
      "image/png": "[encoded data removed]",
      "text/plain": [
       "<langgraph.graph.state.CompiledStateGraph object at 0x000001D728F28190>"
      ]
     },
     "execution_count": 22,
     "metadata": {},
     "output_type": "execute_result"
    }
   ],
   "source": [
    "chatbot = graph.compile()\n",
    "chatbot"
   ]
  },
  {
   "cell_type": "code",
   "execution_count": 23,
   "id": "a5a893e7",
   "metadata": {},
   "outputs": [
    {
     "name": "stdout",
     "output_type": "stream",
     "text": [
      "Hello! How can I help you today?\n"
     ]
    }
   ],
   "source": [
    "\n",
    "\n",
    "# Regular chat\n",
    "out = chatbot.invoke({\"messages\": [HumanMessage(content=\"Hello!\")]})\n",
    "\n",
    "print(out[\"messages\"][-1].content)\n",
    "\n"
   ]
  },
  {
   "cell_type": "code",
   "execution_count": 25,
   "id": "3d0df74b",
   "metadata": {},
   "outputs": [
    {
     "name": "stdout",
     "output_type": "stream",
     "text": [
      "The product of 14,004,000 and 5,999,999 is 84,023,985,996,000.\n"
     ]
    }
   ],
   "source": [
    "# Chat requiring tool\n",
    "out = chatbot.invoke({\"messages\": [HumanMessage(content=\"What is 14 million 4 thousand times 5999999?\")]})\n",
    "print(out[\"messages\"][-1].content)"
   ]
  },
  {
   "cell_type": "code",
   "execution_count": 26,
   "id": "5501c060",
   "metadata": {},
   "outputs": [
    {
     "name": "stdout",
     "output_type": "stream",
     "text": [
      "The stock price of Amazon (AMZN) is $215.57.\n"
     ]
    }
   ],
   "source": [
    "# Chat requiring tool\n",
    "out = chatbot.invoke({\"messages\": [HumanMessage(content=\"What is the stock price of Amazon\")]})\n",
    "print(out[\"messages\"][-1].content)"
   ]
  },
  {
   "cell_type": "code",
   "execution_count": 29,
   "id": "25fba10d",
   "metadata": {},
   "outputs": [
    {
     "name": "stdout",
     "output_type": "stream",
     "text": [
      "The current stock price of Nvidia is 179.83. To purchase 100 shares, it would cost 17983.\n"
     ]
    }
   ],
   "source": [
    "\n",
    "\n",
    "# Chat requiring tool\n",
    "out = chatbot.invoke({\"messages\": [HumanMessage(content=\"First find out the stock price of Nvdia using get stock price tool  and tell me ,then use the calculator tool to find out how much will it take to purchase 100 shares?\")]})\n",
    "print(out[\"messages\"][-1].content)\n",
    "\n"
   ]
  },
  {
   "cell_type": "code",
   "execution_count": 31,
   "id": "ca70e518",
   "metadata": {},
   "outputs": [
    {
     "name": "stdout",
     "output_type": "stream",
     "text": [
      "Kolkata is expected to have a sunny and warm day today, October 16, with temperatures reaching 31.1°C. The humidity is at 66% and wind speeds are 18 kph. There's a slight chance of afternoon showers which might improve the air quality.\n"
     ]
    }
   ],
   "source": [
    "# Chat requiring tool\n",
    "out = chatbot.invoke({\"messages\": [HumanMessage(content=\"Weather in kolkata now?\")]})\n",
    "print(out[\"messages\"][-1].content)"
   ]
  },
  {
   "cell_type": "code",
   "execution_count": 34,
   "id": "b25f16cc",
   "metadata": {},
   "outputs": [],
   "source": [
    "from langchain_core.messages import AIMessage"
   ]
  },
  {
   "cell_type": "code",
   "execution_count": null,
   "id": "1fe04f30",
   "metadata": {},
   "outputs": [],
   "source": [
    "def chat_with_tools(user_input):\n",
    "    \"\"\"\"\"\"\n",
    "    out = chatbot.invoke({\"messages\": [HumanMessage(content=user_input)]})\n",
    "    \n",
    "    # Check which tools were used\n",
    "    tools_used = []\n",
    "    for msg in out[\"messages\"]:\n",
    "        if isinstance(msg, AIMessage) and msg.tool_calls:\n",
    "            for tool_call in msg.tool_calls:\n",
    "                tools_used.append(tool_call['name'])\n",
    "    \n",
    "    # Print results\n",
    "    if tools_used:\n",
    "        print(f\"🔧 Tools Used: {', '.join(tools_used)}\")\n",
    "    print(f\"✅ Answer: {out['messages'][-1].content}\\n\")\n",
    "    \n",
    "    "
   ]
  },
  {
   "cell_type": "code",
   "execution_count": 38,
   "id": "67a5c341",
   "metadata": {},
   "outputs": [
    {
     "name": "stdout",
     "output_type": "stream",
     "text": [
      "🔧 Tools Used: calculator\n",
      "✅ Answer: 14 million times 6 million is 84,000,000,000,000.\n",
      "\n"
     ]
    }
   ],
   "source": [
    "# Test 1: Calculator\n",
    "chat_with_tools(\"What is 14 million times 6 million?\")"
   ]
  },
  {
   "cell_type": "code",
   "execution_count": 39,
   "id": "c21ea91b",
   "metadata": {},
   "outputs": [
    {
     "name": "stdout",
     "output_type": "stream",
     "text": [
      "🔧 Tools Used: get_stock_price\n",
      "✅ Answer: The stock price of Amazon (AMZN) is $215.57.\n",
      "\n"
     ]
    }
   ],
   "source": [
    "# Test 2: Stock price\n",
    "chat_with_tools(\"What is the stock price of Amazon?\")"
   ]
  },
  {
   "cell_type": "code",
   "execution_count": 40,
   "id": "ced6e213",
   "metadata": {},
   "outputs": [
    {
     "name": "stdout",
     "output_type": "stream",
     "text": [
      "🔧 Tools Used: get_stock_price, calculator\n",
      "✅ Answer: The current stock price of Nvidia is $179.83. 100 shares would cost $17983.\n",
      "\n"
     ]
    }
   ],
   "source": [
    "# Test 3: Multiple tools\n",
    "chat_with_tools(\"Find Nvidia stock price and calculate cost for 100 shares\")"
   ]
  },
  {
   "cell_type": "code",
   "execution_count": 41,
   "id": "0f0e4193",
   "metadata": {},
   "outputs": [
    {
     "name": "stdout",
     "output_type": "stream",
     "text": [
      "🔧 Tools Used: duckduckgo_search\n",
      "✅ Answer: The weather in Kolkata today, October 16, is sunny and warm with temperatures reaching 31.1°C. There were heavy showers and thunder on Friday afternoon.\n",
      "\n"
     ]
    }
   ],
   "source": [
    "# Test 4: Web search\n",
    "chat_with_tools(\"Weather in Kolkata now?\")\n"
   ]
  },
  {
   "cell_type": "code",
   "execution_count": null,
   "id": "a2094034",
   "metadata": {},
   "outputs": [
    {
     "name": "stdout",
     "output_type": "stream",
     "text": [
      "🔧 Tools Used: duckduckgo_search\n",
      "✅ Answer: Artificial intelligence (AI) is a field that enables computers and machines to perform tasks that typically require human intelligence. This includes abilities like reasoning, discovering meaning, generalizing, and learning from past experiences.\n",
      "\n",
      "AI is a powerful and rapidly evolving technology that is transforming industries and shaping the future. It works through various methods such as machine learning, deep learning, and neural networks, allowing systems to learn from data, recognize patterns, and make decisions to solve complex problems.\n",
      "\n",
      "AI has a wide range of applications across many industries, including:\n",
      "*   **Healthcare:** For diagnostics, personalized treatment plans, and drug discovery.\n",
      "*   **Finance:** For fraud detection, algorithmic trading, and personalized financial advice.\n",
      "*   **E-commerce:** For personalized recommendations and customer service.\n",
      "*   **Transportation:** Enabling self-driving cars and optimizing logistics.\n",
      "\n",
      "By understanding how AI works and its real-world applications, we can appreciate the significant impact it is already having on our daily lives.\n",
      "\n"
     ]
    },
    {
     "ename": "",
     "evalue": "",
     "output_type": "error",
     "traceback": [
      "\u001b[1;31mThe Kernel crashed while executing code in the current cell or a previous cell. \n",
      "\u001b[1;31mPlease review the code in the cell(s) to identify a possible cause of the failure. \n",
      "\u001b[1;31mClick <a href='https://aka.ms/vscodeJupyterKernelCrash'>here</a> for more info. \n",
      "\u001b[1;31mView Jupyter <a href='command:jupyter.viewOutput'>log</a> for further details."
     ]
    }
   ],
   "source": [
    "chat_with_tools(\"Tell me about Artificial Intelliogence?\")"
   ]
  }
 ],
 "metadata": {
  "kernelspec": {
   "display_name": "AGENTIC_UNDERSTANDING (3.10.18)",
   "language": "python",
   "name": "python3"
  },
  "language_info": {
   "codemirror_mode": {
    "name": "ipython",
    "version": 3
   },
   "file_extension": ".py",
   "mimetype": "text/x-python",
   "name": "python",
   "nbconvert_exporter": "python",
   "pygments_lexer": "ipython3",
   "version": "3.10.18"
  }
 },
 "nbformat": 4,
 "nbformat_minor": 5
}
