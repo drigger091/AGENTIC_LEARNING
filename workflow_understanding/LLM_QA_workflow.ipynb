{
 "cells": [
  {
   "cell_type": "code",
   "execution_count": 29,
   "id": "d4fd1421",
   "metadata": {},
   "outputs": [],
   "source": [
    "from langgraph.graph import StateGraph , START , END\n",
    "from typing import TypedDict\n",
    "import warnings\n",
    "import os\n",
    "warnings.filterwarnings(\"ignore\")\n",
    "from dotenv import load_dotenv"
   ]
  },
  {
   "cell_type": "code",
   "execution_count": 30,
   "id": "aa07601e",
   "metadata": {},
   "outputs": [],
   "source": [
    "from langchain_google_genai import GoogleGenerativeAI"
   ]
  },
  {
   "cell_type": "code",
   "execution_count": 31,
   "id": "e30c6c04",
   "metadata": {},
   "outputs": [],
   "source": [
    "# Create LLM with explicit API key\n",
    "load_dotenv()\n",
    "llm = GoogleGenerativeAI(\n",
    "    model=\"gemini-2.5-pro\",  # Use correct model name\n",
    "    google_api_key=os.getenv('GOOGLE_API_KEY')  # Explicit API key\n",
    ")\n"
   ]
  },
  {
   "cell_type": "code",
   "execution_count": 32,
   "id": "9593adb4",
   "metadata": {},
   "outputs": [],
   "source": [
    "# creating  a state\n",
    "\n",
    "class LLmstate(TypedDict):\n",
    "\n",
    "    question : str\n",
    "    answer :str"
   ]
  },
  {
   "cell_type": "code",
   "execution_count": 33,
   "id": "a2d00862",
   "metadata": {},
   "outputs": [],
   "source": [
    "def llm_qa(state:LLmstate)-> LLmstate:\n",
    "\n",
    "    #extract the question\n",
    "\n",
    "    question = state['question']\n",
    "\n",
    "    #form a prompt\n",
    "\n",
    "    prompt =f\"Answer the following question {question}\"\n",
    "\n",
    "    #ask llm to answwer\n",
    "\n",
    "    answer = llm.invoke(prompt)\n",
    "\n",
    "    #update the answer\n",
    "\n",
    "    state[\"answer\"] = answer\n",
    "\n",
    "    return state\n"
   ]
  },
  {
   "cell_type": "code",
   "execution_count": 34,
   "id": "e19106d7",
   "metadata": {},
   "outputs": [],
   "source": [
    "graph = StateGraph(LLmstate)\n",
    "\n",
    "# add nodes\n",
    "graph.add_node(\"llm_qa\",llm_qa)\n",
    "# add edges\n",
    "graph.add_edge(START,\"llm_qa\")\n",
    "graph.add_edge(\"llm_qa\",END)\n",
    "\n",
    "# compile\n",
    "\n",
    "workflow = graph.compile()"
   ]
  },
  {
   "cell_type": "code",
   "execution_count": 35,
   "id": "648e3a3c",
   "metadata": {},
   "outputs": [
    {
     "name": "stdout",
     "output_type": "stream",
     "text": [
      "Of course. This is an excellent and very current question. Here’s a detailed breakdown of the difference between Agentic AI and Generative AI.\n",
      "\n",
      "### The Core Analogy\n",
      "\n",
      "To understand the difference instantly, think of this analogy:\n",
      "\n",
      "*   **Generative AI is a brilliant Creative Writer.** You give it a topic (a prompt), and it writes a beautiful essay, poem, or piece of code for you. It creates something new based on your instructions.\n",
      "*   **Agentic AI is a highly capable Personal Assistant.** You give it a goal (\"Plan my trip to Paris\"), and it doesn't just write a plan; it breaks down the task, browses websites, compares flight prices, checks your calendar, and even books the tickets for you. It *acts* to achieve the goal.\n",
      "\n",
      "---\n",
      "\n",
      "### Generative AI: The Content Creator\n",
      "\n",
      "Generative AI is focused on **creating new, original content** that resembles the data it was trained on. It is a powerful pattern-matching and prediction engine.\n",
      "\n",
      "*   **What it does:** It takes a user's prompt and generates a single, coherent output.\n",
      "*   **How it works:** It predicts the next most likely thing in a sequence. For text, it predicts the next word. For images, it predicts the next pixel. It's a sophisticated \"autocomplete\" on a massive scale.\n",
      "*   **Key Characteristic:** **Reactive.** It waits for a prompt and provides a response. The interaction is typically a one-shot \"prompt-in, content-out\" cycle.\n",
      "*   **Interaction with the World:** Very limited. It doesn't browse the live internet (unless specifically designed with a tool for that), access your files, or interact with other applications on its own. It's a closed-box system.\n",
      "*   **Examples:**\n",
      "    *   **ChatGPT (OpenAI):** You ask a question, it generates a text answer.\n",
      "    *   **Midjourney / DALL-E 3:** You describe an image, it generates that image.\n",
      "    *   **GitHub Copilot:** It predicts and generates the next few lines of code as you type.\n",
      "\n",
      "**In short: Generative AI *makes* things.**\n",
      "\n",
      "---\n",
      "\n",
      "### Agentic AI: The Task Doer\n",
      "\n",
      "Agentic AI (or an AI Agent) is a system designed to **autonomously take actions** to achieve a specific goal. It uses a generative model (like a large language model) as its \"brain\" or reasoning engine.\n",
      "\n",
      "*   **What it does:** It takes a user's high-level goal, breaks it down into a sequence of steps, executes those steps, and adapts its plan based on the results.\n",
      "*   **How it works:** It operates in a loop:\n",
      "    1.  **Goal:** Understands the objective (e.g., \"Find the top 3 rated Italian restaurants near me and book a table for 2 at 8 PM tomorrow\").\n",
      "    2.  **Plan:** Breaks the goal into sub-tasks (1. Search Google Maps for restaurants. 2. Filter by rating. 3. Check for availability on their websites. 4. Use a booking API or website to make a reservation).\n",
      "    3.  **Tool Use:** Executes a task by using a tool (e.g., performs a web search, accesses an API, runs a script).\n",
      "    4.  **Observe:** Analyzes the result of the action (e.g., \"The first restaurant is fully booked.\").\n",
      "    5.  **Reason & Re-plan:** Uses its reasoning engine (the LLM) to decide the next step based on the observation (\"Okay, I will now try the second restaurant on the list.\"). This loop continues until the goal is achieved or it fails.\n",
      "*   **Key Characteristic:** **Proactive and Autonomous.** Once given a goal, it works on its own to complete a multi-step process.\n",
      "*   **Interaction with the World:** Essential. Its entire purpose is to interact with digital environments—browsing websites, using applications, accessing files, and sending emails—to get things done.\n",
      "*   **Examples (many are still experimental but demonstrate the concept):**\n",
      "    *   **Auto-GPT / AgentGPT:** Early experiments where you give a goal, and the AI writes its own prompts, critiques them, and executes a plan.\n",
      "    *   **Future AI Travel Agents:** An AI that can plan and book an entire vacation for you, handling flights, hotels, and activities across different platforms.\n",
      "    *   **AI Research Assistants:** An agent that can be tasked to \"write a summary of the latest research on quantum computing,\" which would involve searching academic databases, reading papers, summarizing them, and compiling a report.\n",
      "\n",
      "**In short: Agentic AI *does* things.**\n",
      "\n",
      "---\n",
      "\n",
      "### Comparison Table: Agentic AI vs. Generative AI\n",
      "\n",
      "| Feature | Generative AI (The Creator) | Agentic AI (The Doer) |\n",
      "| :--- | :--- | :--- |\n",
      "| **Primary Function** | To **create** content (text, images, code). | To **achieve** a goal by taking actions. |\n",
      "| **Interaction Model** | **Reactive:** Responds to a specific prompt. | **Proactive:** Autonomously pursues a goal. |\n",
      "| **Scope** | Typically a single task or output per prompt. | A multi-step, dynamic process. |\n",
      "| **Autonomy** | Low. It requires human guidance for each step. | High. It can operate independently to complete a task. |\n",
      "| **Environment** | Operates in a closed environment. | Interacts with external digital environments (web, APIs). |\n",
      "| **Core Component** | The foundational model itself (e.g., GPT-4). | A framework/architecture that *uses* a foundational model as its reasoning engine. |\n",
      "\n",
      "### How They Relate\n",
      "\n",
      "This is the most important takeaway: **Agentic AI is not a replacement for Generative AI. It is an evolution that is *powered by* Generative AI.**\n",
      "\n",
      "The Large Language Model (LLM) at the heart of a Generative AI like ChatGPT is the \"brain\" that gives an AI Agent its ability to reason, plan, and understand language. The agentic *framework* is the scaffolding around that brain that gives it arms and legs to interact with the world and a memory to keep track of its progress.\n",
      "\n",
      "So, the future of AI isn't a battle between the two; it's their **convergence**. We are moving from AIs that can only *tell* you how to do something to AIs that can actually *do it for you*.\n"
     ]
    }
   ],
   "source": [
    "# final execution\n",
    "\n",
    "initial_state = {\"question\":\"what is agentic Ai vs generative Ai\"}\n",
    "\n",
    "final_state = workflow.invoke(initial_state)\n",
    "\n",
    "print(final_state[\"answer\"])\n"
   ]
  }
 ],
 "metadata": {
  "kernelspec": {
   "display_name": "AGENTIC_UNDERSTANDING (3.10.18)",
   "language": "python",
   "name": "python3"
  },
  "language_info": {
   "codemirror_mode": {
    "name": "ipython",
    "version": 3
   },
   "file_extension": ".py",
   "mimetype": "text/x-python",
   "name": "python",
   "nbconvert_exporter": "python",
   "pygments_lexer": "ipython3",
   "version": "3.10.18"
  }
 },
 "nbformat": 4,
 "nbformat_minor": 5
}
