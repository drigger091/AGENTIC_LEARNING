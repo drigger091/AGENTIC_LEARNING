{
 "cells": [
  {
   "cell_type": "code",
   "execution_count": 1,
   "id": "25473049",
   "metadata": {},
   "outputs": [],
   "source": [
    "from langgraph.graph import StateGraph, START, END\n",
    "from typing import TypedDict"
   ]
  },
  {
   "cell_type": "code",
   "execution_count": 2,
   "id": "cf5376c1",
   "metadata": {},
   "outputs": [],
   "source": [
    "class Loanstate(TypedDict):\n",
    "\n",
    "    name:str\n",
    "    age :int\n",
    "    credit_score:int\n",
    "    income :int\n",
    "\n",
    "    age_ok:bool\n",
    "    credit_ok:bool\n",
    "    status:str\n",
    "    decision:str"
   ]
  },
  {
   "cell_type": "code",
   "execution_count": 3,
   "id": "d24c0b31",
   "metadata": {},
   "outputs": [],
   "source": [
    "def check_age(state:Loanstate)->Loanstate:\n",
    "\n",
    "    if 21<= state['age'] <= 60:\n",
    "        age_ok = True\n",
    "        status =\"Age Ok\"\n",
    "    else:\n",
    "        age_ok = False\n",
    "        status =\"Rejected _Age must be 21 -60\"\n",
    "\n",
    "    return {\"age_ok\":age_ok,\"status\":status}"
   ]
  },
  {
   "cell_type": "code",
   "execution_count": 8,
   "id": "a30c2113",
   "metadata": {},
   "outputs": [],
   "source": [
    "def check_credit(state:Loanstate)->Loanstate:\n",
    "\n",
    "    if state['credit_score'] >= 650:\n",
    "        credit_ok = True\n",
    "        status = \"credit Ok\"\n",
    "    else:\n",
    "        credit_ok = False\n",
    "        status = \"Rejected -Credit Score must be above 650\"\n",
    "\n",
    "    return {\"credit_ok\":credit_ok,\"status\":status}"
   ]
  },
  {
   "cell_type": "code",
   "execution_count": 5,
   "id": "c506531b",
   "metadata": {},
   "outputs": [],
   "source": [
    "def approve(state:Loanstate)->Loanstate:\n",
    "\n",
    "    decision = \"Approved\"\n",
    "    status =f\"Loan approved for {state['name']}\"\n",
    "\n",
    "    return {\"decision\":decision,\"status\":status}"
   ]
  },
  {
   "cell_type": "code",
   "execution_count": 6,
   "id": "a2ed504a",
   "metadata": {},
   "outputs": [],
   "source": [
    "def reject(state:Loanstate)->Loanstate:\n",
    "\n",
    "    decision = \"Rejected\"\n",
    "    status =f\"Loan rejected for {state['name']}\"\n",
    "\n",
    "    return {\"decision\":decision,\"status\":status}"
   ]
  },
  {
   "cell_type": "code",
   "execution_count": 7,
   "id": "1feb84b0",
   "metadata": {},
   "outputs": [],
   "source": [
    "# using the condiotonal routing\n",
    "\n",
    "def route_after_age(state:Loanstate)->Loanstate:\n",
    "\n",
    "    if state.get(\"age_ok\"):  # if age is valid return the check credit_node\n",
    "        return \"check_credit\"\n",
    "    else:\n",
    "        return \"reject\"\n",
    "    \n",
    "\n",
    "\n"
   ]
  },
  {
   "cell_type": "code",
   "execution_count": 9,
   "id": "6c20e925",
   "metadata": {},
   "outputs": [],
   "source": [
    "\n",
    "def route_after_credit(state:Loanstate)->Loanstate:\n",
    "\n",
    "    if state.get(\"credit_ok\"):  # if age is valid return the check credit_node\n",
    "        return \"approve\"\n",
    "    else:\n",
    "        return \"reject\""
   ]
  },
  {
   "cell_type": "code",
   "execution_count": 10,
   "id": "5b5e64d1",
   "metadata": {},
   "outputs": [],
   "source": [
    "graph = StateGraph(Loanstate)\n",
    "\n",
    "#add node\n",
    "graph.add_node(\"check_age\",check_age)\n",
    "graph.add_node(\"check_credit\",check_credit)\n",
    "graph.add_node(\"approve\",approve)\n",
    "graph.add_node(\"reject\",reject)\n",
    "\n",
    "\n",
    "#defining the edges\n",
    "graph.add_edge(START,\"check_age\")\n",
    "\n",
    "\n",
    "#condiional _edges\n",
    "\n",
    "graph.add_conditional_edges(\"check_age\",route_after_age,\n",
    "                            {'check_credit':\"check_credit\",\"reject\":\"reject\"})\n",
    "\n",
    "graph.add_conditional_edges(\"check_credit\",route_after_credit,\n",
    "                            {'approve':\"approve\",\"reject\":\"reject\"})\n",
    "\n",
    "graph.add_edge(\"approve\",END)\n",
    "graph.add_edge(\"reject\",END)\n",
    "\n",
    "\n",
    "workflow = graph.compile()\n"
   ]
  },
  {
   "cell_type": "code",
   "execution_count": 11,
   "id": "3398df65",
   "metadata": {},
   "outputs": [
    {
     "data": {
      "image/png": "[encoded data removed]",
      "text/plain": [
       "<langgraph.graph.state.CompiledStateGraph object at 0x0000020A8244C250>"
      ]
     },
     "execution_count": 11,
     "metadata": {},
     "output_type": "execute_result"
    }
   ],
   "source": [
    "workflow"
   ]
  },
  {
   "cell_type": "code",
   "execution_count": 13,
   "id": "0628a9df",
   "metadata": {},
   "outputs": [
    {
     "name": "stdout",
     "output_type": "stream",
     "text": [
      "{'name': 'John Doe', 'age': 35, 'credit_score': 720, 'income': 75000, 'age_ok': True, 'credit_ok': True, 'status': 'Loan approved for John Doe', 'decision': 'Approved'}\n"
     ]
    }
   ],
   "source": [
    "app1 = {\n",
    "    \"name\": \"John Doe\",\n",
    "    \"age\": 35,\n",
    "    \"credit_score\": 720,\n",
    "    \"income\": 75000\n",
    "}\n",
    "\n",
    "\n",
    "app1_status = workflow.invoke(app1)\n",
    "print(app1_status)"
   ]
  }
 ],
 "metadata": {
  "kernelspec": {
   "display_name": "AGENTIC_UNDERSTANDING (3.10.18)",
   "language": "python",
   "name": "python3"
  },
  "language_info": {
   "codemirror_mode": {
    "name": "ipython",
    "version": 3
   },
   "file_extension": ".py",
   "mimetype": "text/x-python",
   "name": "python",
   "nbconvert_exporter": "python",
   "pygments_lexer": "ipython3",
   "version": "3.10.18"
  }
 },
 "nbformat": 4,
 "nbformat_minor": 5
}
